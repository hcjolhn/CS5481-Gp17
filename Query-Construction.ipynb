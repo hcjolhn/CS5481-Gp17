{
  "nbformat": 4,
  "nbformat_minor": 0,
  "metadata": {
    "colab": {
      "provenance": []
    },
    "kernelspec": {
      "name": "python3",
      "display_name": "Python 3"
    },
    "language_info": {
      "name": "python"
    }
  },
  "cells": [
    {
      "cell_type": "markdown",
      "source": [
        "# Elasticsearch Query Configuration Experiment Notebook"
      ],
      "metadata": {
        "id": "vqfFU2kTjgIh"
      }
    },
    {
      "cell_type": "markdown",
      "source": [
        "## Install Elasticsearch Package"
      ],
      "metadata": {
        "id": "hL9DMX9yZSYR"
      }
    },
    {
      "cell_type": "code",
      "source": [
        "!pip install -qU elasticsearch"
      ],
      "metadata": {
        "id": "s30sYYHTZHBo",
        "colab": {
          "base_uri": "https://localhost:8080/"
        },
        "outputId": "60094697-ef54-4f30-b26b-f88084f4ffbf"
      },
      "execution_count": 1,
      "outputs": [
        {
          "output_type": "stream",
          "name": "stdout",
          "text": [
            "\u001b[?25l     \u001b[90m━━━━━━━━━━━━━━━━━━━━━━━━━━━━━━━━━━━━━━━━\u001b[0m \u001b[32m0.0/412.6 kB\u001b[0m \u001b[31m?\u001b[0m eta \u001b[36m-:--:--\u001b[0m\r\u001b[2K     \u001b[91m━━━━━\u001b[0m\u001b[91m╸\u001b[0m\u001b[90m━━━━━━━━━━━━━━━━━━━━━━━━━━━━━━━━━━\u001b[0m \u001b[32m61.4/412.6 kB\u001b[0m \u001b[31m1.6 MB/s\u001b[0m eta \u001b[36m0:00:01\u001b[0m\r\u001b[2K     \u001b[91m━━━━━━━━━━━━━━━━━━━━━━━━━━━━━━━━━━━━━━━\u001b[0m\u001b[91m╸\u001b[0m \u001b[32m409.6/412.6 kB\u001b[0m \u001b[31m5.7 MB/s\u001b[0m eta \u001b[36m0:00:01\u001b[0m\r\u001b[2K     \u001b[90m━━━━━━━━━━━━━━━━━━━━━━━━━━━━━━━━━━━━━━━━\u001b[0m \u001b[32m412.6/412.6 kB\u001b[0m \u001b[31m4.7 MB/s\u001b[0m eta \u001b[36m0:00:00\u001b[0m\n",
            "\u001b[?25h\u001b[?25l     \u001b[90m━━━━━━━━━━━━━━━━━━━━━━━━━━━━━━━━━━━━━━━━\u001b[0m \u001b[32m0.0/59.8 kB\u001b[0m \u001b[31m?\u001b[0m eta \u001b[36m-:--:--\u001b[0m\r\u001b[2K     \u001b[90m━━━━━━━━━━━━━━━━━━━━━━━━━━━━━━━━━━━━━━━━\u001b[0m \u001b[32m59.8/59.8 kB\u001b[0m \u001b[31m5.6 MB/s\u001b[0m eta \u001b[36m0:00:00\u001b[0m\n",
            "\u001b[?25h"
          ]
        }
      ]
    },
    {
      "cell_type": "markdown",
      "source": [
        "## Import Library"
      ],
      "metadata": {
        "id": "8RrJYUEgZewJ"
      }
    },
    {
      "cell_type": "code",
      "execution_count": 2,
      "metadata": {
        "id": "KAhpKHzzigPb"
      },
      "outputs": [],
      "source": [
        "import os\n",
        "import json\n",
        "import time\n",
        "\n",
        "from elasticsearch import Elasticsearch, helpers, exceptions"
      ]
    },
    {
      "cell_type": "markdown",
      "source": [
        "## Connect to Elastic Cloud"
      ],
      "metadata": {
        "id": "kFsbUGKoZkwx"
      }
    },
    {
      "cell_type": "code",
      "source": [
        "ES_CLOUD_ID = '5481-Project:dXMtY2VudHJhbDEuZ2NwLmNsb3VkLmVzLmlvOjQ0MyQ5NTc2NTk4MTZhOTU0MjQwYTMzNTcxMmExNzhiMjkwMSRiN2Y0ZWQ4YWYyZjg0Y2ZjYjkxNThmNmZlN2YzZGIwOA=='\n",
        "ES_API_KEY = 'TWpwdTRJc0JxS3hZMjI0N19nY2Q6aVNONVhCRURTTGlDM3FnSVJXV0FZUQ=='\n",
        "\n",
        "es = Elasticsearch(cloud_id=ES_CLOUD_ID, api_key=ES_API_KEY)\n",
        "\n",
        "if es.ping():\n",
        "    print(\"Connected to Elasticsearch on Elastic Cloud\")\n",
        "    print(es.info())\n",
        "else:\n",
        "    print(\"Connection failed\")"
      ],
      "metadata": {
        "id": "4y8N-UawipiI",
        "colab": {
          "base_uri": "https://localhost:8080/"
        },
        "outputId": "4932c043-1562-49e8-bc95-69b0ec5cb88a"
      },
      "execution_count": 3,
      "outputs": [
        {
          "output_type": "stream",
          "name": "stdout",
          "text": [
            "Connected to Elasticsearch on Elastic Cloud\n",
            "{'name': 'instance-0000000001', 'cluster_name': '957659816a954240a335712a178b2901', 'cluster_uuid': 'P6T96E1USIO1gnF5NWspHw', 'version': {'number': '8.11.1', 'build_flavor': 'default', 'build_type': 'docker', 'build_hash': '6f9ff581fbcde658e6f69d6ce03050f060d1fd0c', 'build_date': '2023-11-11T10:05:59.421038163Z', 'build_snapshot': False, 'lucene_version': '9.8.0', 'minimum_wire_compatibility_version': '7.17.0', 'minimum_index_compatibility_version': '7.0.0'}, 'tagline': 'You Know, for Search'}\n"
          ]
        }
      ]
    },
    {
      "cell_type": "markdown",
      "source": [
        "## ELSER Model Deployment"
      ],
      "metadata": {
        "id": "1lg_SZlAfYHj"
      }
    },
    {
      "cell_type": "code",
      "source": [
        "es_model_id = \".elser_model_2_linux-x86_64\"\n",
        "\n",
        "try:\n",
        "    trained_models = es.ml.get_trained_models()\n",
        "    # Check if the model is present in the trained model info\n",
        "    if any(model['model_id'] == es_model_id for model in trained_models.get(\"trained_model_configs\", [])):\n",
        "        print(f\"Pre-trained Model '{es_model_id}' is deployed.\")\n",
        "\n",
        "    else:\n",
        "        print(f\"Pre-trained Model '{es_model_id}' is not deployed yet.\")\n",
        "\n",
        "        try:\n",
        "            print(f\"Start deploying the Model '{es_model_id}'.\")\n",
        "            es.ml.start_trained_model_deployment(\n",
        "            model_id=es_model_id,\n",
        "            number_of_allocations=1\n",
        "            )\n",
        "            print(\"ELSER Model is deployed.\")\n",
        "\n",
        "        except exceptions.NotFoundError:\n",
        "                print(f\"Pre-trained Model '{es_model_id}' doesn't exist. Now start downloading.\")\n",
        "                # Creates the ELSER model configuration. Automatically downloads the model if it doesn't exist.\n",
        "                es.ml.put_trained_model(\n",
        "                    model_id=es_model_id,\n",
        "                    input={\n",
        "                    \"field_names\": [\"text_field\"]\n",
        "                    }\n",
        "                )\n",
        "                while True:\n",
        "                    status = es.ml.get_trained_models(\n",
        "                        model_id=es_model_id,\n",
        "                        include=\"definition_status\"\n",
        "                    )\n",
        "                    if (status[\"trained_model_configs\"][0][\"fully_defined\"]):\n",
        "                        es.ml.start_trained_model_deployment(\n",
        "                        model_id=es_model_id,\n",
        "                        number_of_allocations=1\n",
        "                        )\n",
        "                        print(\"ELSER Model is downloaded and deployed.\")\n",
        "                        break\n",
        "                    time.sleep(5)\n",
        "\n",
        "        except exceptions.TransportError as e:\n",
        "            print(f\"An error occurred: {e}\")\n",
        "\n",
        "except exceptions.TransportError as e:\n",
        "    print(f\"An error occurred: {e}\")"
      ],
      "metadata": {
        "colab": {
          "base_uri": "https://localhost:8080/"
        },
        "id": "h9ruKxAxffru",
        "outputId": "4d42bde8-2aa9-4115-a806-69a69e6604e1"
      },
      "execution_count": 4,
      "outputs": [
        {
          "output_type": "stream",
          "name": "stdout",
          "text": [
            "Pre-trained Model '.elser_model_2_linux-x86_64' is deployed.\n"
          ]
        }
      ]
    },
    {
      "cell_type": "markdown",
      "source": [
        "## Create Ingestion Pipeline"
      ],
      "metadata": {
        "id": "tSh5RuJKfcoD"
      }
    },
    {
      "cell_type": "code",
      "source": [
        "es.ingest.put_pipeline(\n",
        "    id=\"elser-news-ingest-pipeline\",\n",
        "    description=\"News ingest pipeline for ELSER\",\n",
        "    processors=[\n",
        "    {\n",
        "      \"inference\": {\n",
        "        \"model_id\": es_model_id,\n",
        "        \"input_output\": [\n",
        "            {\n",
        "              \"input_field\": \"title\",\n",
        "              \"output_field\": \"title_embedding\"\n",
        "            }\n",
        "          ]\n",
        "      }\n",
        "    }\n",
        "  ]\n",
        ")"
      ],
      "metadata": {
        "colab": {
          "base_uri": "https://localhost:8080/"
        },
        "id": "rDsF77ICspEs",
        "outputId": "1d805193-47ff-4800-b42b-3c34060ff89c"
      },
      "execution_count": 5,
      "outputs": [
        {
          "output_type": "execute_result",
          "data": {
            "text/plain": [
              "ObjectApiResponse({'acknowledged': True})"
            ]
          },
          "metadata": {},
          "execution_count": 5
        }
      ]
    },
    {
      "cell_type": "markdown",
      "source": [
        "## Delete Index (For Testing Purpose)"
      ],
      "metadata": {
        "id": "BrWtaq8YZrK_"
      }
    },
    {
      "cell_type": "code",
      "source": [
        "es.indices.delete(index=\"sample_news_index\", ignore_unavailable=True)"
      ],
      "metadata": {
        "colab": {
          "base_uri": "https://localhost:8080/"
        },
        "id": "m_6XAH0iwoBB",
        "outputId": "3a9c2927-0d32-41e6-aef4-5e0a1f3ba78b"
      },
      "execution_count": null,
      "outputs": [
        {
          "output_type": "execute_result",
          "data": {
            "text/plain": [
              "ObjectApiResponse({'acknowledged': True})"
            ]
          },
          "metadata": {},
          "execution_count": 11
        }
      ]
    },
    {
      "cell_type": "markdown",
      "source": [
        "## Create Index (For Testing Purpose)"
      ],
      "metadata": {
        "id": "rSSfFOtnZxai"
      }
    },
    {
      "cell_type": "code",
      "source": [
        "index_setting={\n",
        "    \"index\": {\n",
        "        \"number_of_shards\": 1,\n",
        "        \"number_of_replicas\": 1,\n",
        "        \"default_pipeline\": \"elser-news-ingest-pipeline\"\n",
        "    }\n",
        "}\n",
        "\n",
        "index_mapping = {\n",
        "        \"properties\": {\n",
        "            \"title\": {\"type\": \"text\", \"fields\": {\"keyword\": {\"type\": \"keyword\", \"ignore_above\": 256}}},\n",
        "            \"url\": {\"type\": \"keyword\"},\n",
        "            \"date\": {\"type\": \"date\", \"format\": \"yyyy-mm-dd\"},\n",
        "            \"keywords\": {\"type\": \"keyword\"},\n",
        "            \"category\": {\"type\": \"keyword\"},\n",
        "            \"title_embedding\": {\"type\": \"sparse_vector\"}\n",
        "    }\n",
        "}\n",
        "\n",
        "es.indices.create(index=\"sample_news_index\", settings=index_setting, mappings=index_mapping)"
      ],
      "metadata": {
        "colab": {
          "base_uri": "https://localhost:8080/"
        },
        "id": "cMK6Cgx7aUak",
        "outputId": "5e63431d-3b04-4dd8-c537-a4b5659ac36a"
      },
      "execution_count": null,
      "outputs": [
        {
          "output_type": "execute_result",
          "data": {
            "text/plain": [
              "ObjectApiResponse({'acknowledged': True, 'shards_acknowledged': True, 'index': 'sample_news_index'})"
            ]
          },
          "metadata": {},
          "execution_count": 12
        }
      ]
    },
    {
      "cell_type": "markdown",
      "source": [
        "## Load Sample News Dataset (For Testing Purpose)"
      ],
      "metadata": {
        "id": "uWqfSIhgZ4HB"
      }
    },
    {
      "cell_type": "code",
      "source": [
        "JSON_DIR = '/content/drive/MyDrive/Data-Eng-Proj/sample_news_set'\n",
        "\n",
        "start_time = time.time()\n",
        "\n",
        "print(\"Start loading news files...\")\n",
        "\n",
        "documents = []\n",
        "\n",
        "for idx, filename in enumerate(os.listdir(JSON_DIR)):\n",
        "    json_path = os.path.join(JSON_DIR, filename)\n",
        "\n",
        "    # Load JSON data from the file\n",
        "    with open(json_path) as file:\n",
        "        data = json.load(file)\n",
        "\n",
        "    documents.append({\n",
        "        \"_index\": \"sample_news_index\",\n",
        "        \"_source\": data,\n",
        "    })\n",
        "\n",
        "    # Ingest data into Elasticsearch\n",
        "    #es.index(index=\"sample_news_index\", body=data, pipeline=\"ml-inference-sample_news_index\")\n",
        "\n",
        "    if idx % 100 == 0 and idx != 0:\n",
        "        print(f\"Loaded {idx} documents\")\n",
        "\n",
        "end_time = time.time()\n",
        "print(f\"Finished file loading. Took {round(end_time - start_time, 3)} seconds\")\n",
        "print(f\"Total number of documents loaded: {idx + 1}\")"
      ],
      "metadata": {
        "id": "U78lGIhspDNZ",
        "colab": {
          "base_uri": "https://localhost:8080/"
        },
        "outputId": "4c618ea3-7c4f-40aa-8e7a-c51de4dd6024"
      },
      "execution_count": null,
      "outputs": [
        {
          "output_type": "stream",
          "name": "stdout",
          "text": [
            "Start loading news files...\n",
            "Loaded 100 documents\n",
            "Loaded 200 documents\n",
            "Loaded 300 documents\n",
            "Loaded 400 documents\n",
            "Loaded 500 documents\n",
            "Finished file loading. Took 6.868 seconds\n",
            "Total number of documents loaded: 564\n"
          ]
        }
      ]
    },
    {
      "cell_type": "markdown",
      "source": [
        "## Ingest Data into Elasticsearch Index (For Testing Purpose)"
      ],
      "metadata": {
        "id": "6Dc_WMyRaFoP"
      }
    },
    {
      "cell_type": "code",
      "source": [
        "start_time = time.time()\n",
        "print(\"Start ingesting news data...\")\n",
        "helpers.bulk(es, documents)\n",
        "end_time = time.time()\n",
        "print(f\"Data ingestion finished. Took {round(end_time - start_time, 3)} seconds\")\n",
        "print(f\"Total number of documents ingested: {len(documents)}\")"
      ],
      "metadata": {
        "colab": {
          "base_uri": "https://localhost:8080/"
        },
        "id": "qsOmmE54z75x",
        "outputId": "24d45bd3-978b-45e2-a70a-a3573e599008"
      },
      "execution_count": null,
      "outputs": [
        {
          "output_type": "stream",
          "name": "stdout",
          "text": [
            "Start ingesting news data...\n",
            "Data ingestion finished. Took 3.8 seconds\n",
            "Total number of documents ingested: 564\n"
          ]
        }
      ]
    },
    {
      "cell_type": "markdown",
      "source": [
        "## Query"
      ],
      "metadata": {
        "id": "K03TB3zPfCzK"
      }
    },
    {
      "cell_type": "code",
      "source": [
        "user_query = \"covid mandates\""
      ],
      "metadata": {
        "id": "cdVOcK8Eef4U"
      },
      "execution_count": 12,
      "outputs": []
    },
    {
      "cell_type": "markdown",
      "source": [
        "### Function for Listing Responses"
      ],
      "metadata": {
        "id": "TgJvsYHWacFo"
      }
    },
    {
      "cell_type": "code",
      "source": [
        "def response_listing(response):\n",
        "    if len(response['hits']['hits']) == 0:\n",
        "        print('No search results.')\n",
        "    else:\n",
        "        total_count = response['hits']['total']['value']\n",
        "        print(f\"Total Document Retrieved: {total_count}\\n\\n\")\n",
        "        for i, hit in enumerate(response['hits']['hits']):\n",
        "            print(f\"==============={i+1}===============\")\n",
        "            news_id = hit['_id']\n",
        "            score = hit['_score']\n",
        "            news_title = hit['_source']['title']\n",
        "            news_date = hit['_source']['date']\n",
        "            news_cat = hit['_source']['category']\n",
        "            news_url = hit['_source']['url']\n",
        "            print(f\"Score: {score}\\nTitle: {news_title}\\nDate: {news_date}\\nCategory: {news_cat}\\nURL: {news_url}\\n\")"
      ],
      "metadata": {
        "id": "gs6JsGBn1y64"
      },
      "execution_count": 7,
      "outputs": []
    },
    {
      "cell_type": "markdown",
      "source": [
        "## Lexical BM25"
      ],
      "metadata": {
        "id": "hwCGxqvYevee"
      }
    },
    {
      "cell_type": "code",
      "source": [
        "search_query = {\n",
        "    \"query\": {\n",
        "        \"bool\": {\n",
        "            \"must\": [\n",
        "                {\n",
        "                    \"exists\": {\"field\": \"title_embedding\"}\n",
        "                },\n",
        "                {\n",
        "                    \"distance_feature\": {\n",
        "                        \"field\": \"date\",\n",
        "                        \"pivot\": \"7d\",\n",
        "                        \"origin\": \"now\",\n",
        "                        \"boost\": 1000\n",
        "                    }\n",
        "                }\n",
        "\n",
        "            ],\n",
        "            \"should\": [\n",
        "                {\n",
        "                    \"multi_match\": {\n",
        "                        \"query\": user_query,\n",
        "                        \"fields\": [\"title\", \"keywords^2\", \"category\", \"url\"],\n",
        "                        \"type\": \"best_fields\",\n",
        "                        \"fuzziness\": \"AUTO\",\n",
        "                    }\n",
        "                },\n",
        "                {\n",
        "                    \"match_phrase\": {\n",
        "                        \"title\": user_query\n",
        "                    }\n",
        "                }\n",
        "            ]\n",
        "        }\n",
        "    },\n",
        "    \"from\": 0,\n",
        "    \"size\": 20\n",
        "}\n",
        "\n",
        "response = es.search(index=\"cs5481-news-search\", body=search_query)\n",
        "\n",
        "response_listing(response)"
      ],
      "metadata": {
        "id": "5RfZp47N57V-",
        "colab": {
          "base_uri": "https://localhost:8080/"
        },
        "outputId": "169922c1-1acc-4812-fe98-304ed1a489ca"
      },
      "execution_count": 13,
      "outputs": [
        {
          "output_type": "stream",
          "name": "stdout",
          "text": [
            "Total Document Retrieved: 10000\n",
            "\n",
            "\n",
            "===============1===============\n",
            "Score: 47.416252\n",
            "Title: Gov. Ron DeSantis proposes permanent ban on Covid mandates in Florida\n",
            "Date: 2023-01-18\n",
            "Category: ['politics news']\n",
            "URL: https://www.nbcnews.com/politics/politics-news/florida-gov-desantis-proposes-permanent-ban-covid-mandates-rcna66268\n",
            "\n",
            "===============2===============\n",
            "Score: 39.654953\n",
            "Title: The era of big Covid mandates is ending\n",
            "Date: 2022-02-09\n",
            "Category: ['meet the press']\n",
            "URL: https://www.nbcnews.com/politics/meet-the-press/era-big-covid-mandates-ending-n1288840\n",
            "\n",
            "===============3===============\n",
            "Score: 34.359352\n",
            "Title: Pentagon drops Covid-19 vaccination mandate for troops\n",
            "Date: 2023-01-11\n",
            "Category: ['coronavirus']\n",
            "URL: https://www.nbcnews.com/news/us-news/pentagon-drops-covid-19-vaccination-mandate-troops-rcna65233\n",
            "\n",
            "===============4===============\n",
            "Score: 34.155956\n",
            "Title: 'Chaotic situation': Puerto Ricans indignant at tourists breaking Covid mandates\n",
            "Date: 2021-03-20\n",
            "Category: ['coronavirus']\n",
            "URL: https://www.nbcnews.com/news/latino/chaotic-situation-puerto-ricans-indignant-tourists-breaking-covid-mandates-n1261588\n",
            "\n",
            "===============5===============\n",
            "Score: 33.88276\n",
            "Title: Court blocks Covid vaccine mandate for U.S. government workers\n",
            "Date: 2023-03-24\n",
            "Category: ['coronavirus']\n",
            "URL: https://www.nbcnews.com/politics/joe-biden/court-blocks-covid-vaccine-mandate-us-government-workers-rcna76487\n",
            "\n",
            "===============6===============\n",
            "Score: 33.779865\n",
            "Title: Hong Kong to lift one of the world’s longest Covid mask mandates\n",
            "Date: 2023-02-28\n",
            "Category: ['coronavirus']\n",
            "URL: https://www.nbcnews.com/news/world/hong-kong-to-lift-covid-mask-mandate-rcna72601\n",
            "\n",
            "===============7===============\n",
            "Score: 33.22105\n",
            "Title: McConnell says he'd leave Covid mandates up to employers, school boards\n",
            "Date: 2021-08-24\n",
            "Category: ['congress']\n",
            "URL: https://www.nbcnews.com/politics/congress/mcconnell-says-he-d-leave-covid-mandates-employers-school-boards-n1277525\n",
            "\n",
            "===============8===============\n",
            "Score: 32.349632\n",
            "Title: 'Stiffen our spines': Democrats see political support for Covid mandates in California\n",
            "Date: 2021-09-18\n",
            "Category: ['elections']\n",
            "URL: https://www.nbcnews.com/politics/elections/stiffen-our-spines-democrats-see-political-support-covid-mandates-california-n1279466\n",
            "\n",
            "===============9===============\n",
            "Score: 31.535454\n",
            "Title: San Antonio Spurs coach Gregg Popovich slams Texas governor for lifting Covid mandates\n",
            "Date: 2021-03-04\n",
            "Category: ['coronavirus']\n",
            "URL: https://www.nbcnews.com/news/us-news/san-antonio-spurs-coach-gregg-popovich-slams-texas-governor-lifting-n1259511\n",
            "\n",
            "===============10===============\n",
            "Score: 31.535454\n",
            "Title: Washington lawmaker apologizes for wearing yellow Star of David to protest Covid mandates\n",
            "Date: 2021-07-02\n",
            "Category: ['politics news']\n",
            "URL: https://www.nbcnews.com/politics/politics-news/washington-lawmaker-apologizes-wearing-star-david-protest-covid-mandates-n1272962\n",
            "\n",
            "===============11===============\n",
            "Score: 31.34451\n",
            "Title: Former pilot who allegedly threatened to shoot flight captain once sued DOD against Covid-19 mandate\n",
            "Date: 2023-11-03\n",
            "Category: ['u.s. news']\n",
            "URL: https://www.nbcnews.com/news/us-news/former-pilot-allegedly-threatened-shoot-flight-captain-sued-dod-covid-rcna123400\n",
            "\n",
            "===============12===============\n",
            "Score: 30.58202\n",
            "Title: NYC mandates minimum wage for app-based delivery workers\n",
            "Date: 2023-06-12\n",
            "Category: ['asian america']\n",
            "URL: https://www.nbcnews.com/news/asian-america/nyc-mandates-minimum-wage-app-based-delivery-workers-rcna88939\n",
            "\n",
            "===============13===============\n",
            "Score: 30.260399\n",
            "Title: EPA mandates states report on cyber threats to water systems\n",
            "Date: 2023-03-03\n",
            "Category: ['tech news']\n",
            "URL: https://www.nbcnews.com/tech/tech-news/epa-mandates-states-report-cyber-rcna73355\n",
            "\n",
            "===============14===============\n",
            "Score: 29.618196\n",
            "Title: New first minister will have no mandate - Sarwar\n",
            "Date: 2023-03-26\n",
            "Category: ['news', 'uk-scotland-scotland-politics']\n",
            "URL: http://www.bbc.co.uk/news/uk-scotland-scotland-politics-65080560\n",
            "\n",
            "===============15===============\n",
            "Score: 29.618196\n",
            "Title: University strikes mandate renewed for six more months\n",
            "Date: 2023-04-03\n",
            "Category: ['news', 'education']\n",
            "URL: http://www.bbc.co.uk/news/education-65168937\n",
            "\n",
            "===============16===============\n",
            "Score: 29.618196\n",
            "Title: University strikes mandate renewed for six more months\n",
            "Date: 2023-04-03\n",
            "Category: ['news', 'education']\n",
            "URL: http://www.bbc.co.uk/news/education-65168937\n",
            "\n",
            "===============17===============\n",
            "Score: 29.618196\n",
            "Title: Hong Kong ends mask mandate after 945 days\n",
            "Date: 2023-03-01\n",
            "Category: ['news', 'world-asia-china']\n",
            "URL: http://www.bbc.co.uk/news/world-asia-china-64806987\n",
            "\n",
            "===============18===============\n",
            "Score: 29.045185\n",
            "Title: Illinois poised to mandate paid leave for nearly all workers\n",
            "Date: 2023-02-19\n",
            "Category: ['u.s. news']\n",
            "URL: https://www.nbcnews.com/news/us-news/illinois-poised-mandate-paid-leave-nearly-workers-rcna71390\n",
            "\n",
            "===============19===============\n",
            "Score: 29.045185\n",
            "Title: Greek elections: Mitsotakis hails conservative win as mandate for reform\n",
            "Date: 2023-06-26\n",
            "Category: ['news', 'world-europe']\n",
            "URL: http://www.bbc.co.uk/news/world-europe-65997486\n",
            "\n",
            "===============20===============\n",
            "Score: 29.045185\n",
            "Title: Greek elections: Mitsotakis hails conservative win as mandate for reform\n",
            "Date: 2023-06-26\n",
            "Category: ['news', 'world-europe']\n",
            "URL: http://www.bbc.co.uk/news/world-europe-65997486\n",
            "\n"
          ]
        }
      ]
    },
    {
      "cell_type": "markdown",
      "source": [
        "## Semantic Search with ELSER NLP Model"
      ],
      "metadata": {
        "id": "ViAEUNlse597"
      }
    },
    {
      "cell_type": "code",
      "source": [
        "search_query = {\n",
        "    \"query\": {\n",
        "        \"bool\": {\n",
        "            \"must\": [\n",
        "                {\n",
        "                    \"exists\": {\"field\": \"title_embedding\"}\n",
        "                },\n",
        "                {\n",
        "                    \"distance_feature\": {\n",
        "                        \"field\": \"date\",\n",
        "                        \"pivot\": \"7d\",\n",
        "                        \"origin\": \"now\",\n",
        "                        \"boost\": 1000\n",
        "                    }\n",
        "                },\n",
        "                {\n",
        "                    \"text_expansion\": {\n",
        "                        \"title_embedding\": {\n",
        "                            \"model_id\": es_model_id,\n",
        "                            \"model_text\": user_query\n",
        "                        }\n",
        "                    }\n",
        "                }\n",
        "            ],\n",
        "            \"should\": [\n",
        "\n",
        "            ]\n",
        "        }\n",
        "    },\n",
        "    \"from\": 0,\n",
        "    \"size\": 25\n",
        "}\n",
        "\n",
        "response = es.search(index=\"cs5481-news-search\", body=search_query)\n",
        "\n",
        "response_listing(response)\n"
      ],
      "metadata": {
        "id": "yTu_8XB3sbBV",
        "colab": {
          "base_uri": "https://localhost:8080/"
        },
        "outputId": "55796a34-108f-4e8d-cac0-1eb66bf2c7e3"
      },
      "execution_count": 14,
      "outputs": [
        {
          "output_type": "stream",
          "name": "stdout",
          "text": [
            "Total Document Retrieved: 10000\n",
            "\n",
            "\n",
            "===============1===============\n",
            "Score: 37.835293\n",
            "Title: Court blocks Covid vaccine mandate for U.S. government workers\n",
            "Date: 2023-03-24\n",
            "Category: ['coronavirus']\n",
            "URL: https://www.nbcnews.com/politics/joe-biden/court-blocks-covid-vaccine-mandate-us-government-workers-rcna76487\n",
            "\n",
            "===============2===============\n",
            "Score: 36.8088\n",
            "Title: Gov. Ron DeSantis proposes permanent ban on Covid mandates in Florida\n",
            "Date: 2023-01-18\n",
            "Category: ['politics news']\n",
            "URL: https://www.nbcnews.com/politics/politics-news/florida-gov-desantis-proposes-permanent-ban-covid-mandates-rcna66268\n",
            "\n",
            "===============3===============\n",
            "Score: 35.33735\n",
            "Title: Should we be worried about Covid this winter?\n",
            "Date: 2023-08-17\n",
            "Category: ['news', 'uk-scotland']\n",
            "URL: http://www.bbc.co.uk/news/uk-scotland-66502573\n",
            "\n",
            "===============4===============\n",
            "Score: 35.33735\n",
            "Title: Should we be worried about Covid this winter?\n",
            "Date: 2023-08-17\n",
            "Category: ['news', 'uk-scotland']\n",
            "URL: http://www.bbc.co.uk/news/uk-scotland-66502573\n",
            "\n",
            "===============5===============\n",
            "Score: 34.855644\n",
            "Title: Could getting Covid raise cholesterol?\n",
            "Date: 2023-01-25\n",
            "Category: ['coronavirus']\n",
            "URL: https://www.nbcnews.com/health/health-news/getting-covid-raise-cholesterol-rcna67001\n",
            "\n",
            "===============6===============\n",
            "Score: 34.807697\n",
            "Title: Pentagon drops Covid-19 vaccination mandate for troops\n",
            "Date: 2023-01-11\n",
            "Category: ['coronavirus']\n",
            "URL: https://www.nbcnews.com/news/us-news/pentagon-drops-covid-19-vaccination-mandate-troops-rcna65233\n",
            "\n",
            "===============7===============\n",
            "Score: 34.7644\n",
            "Title: Families sue government for failing to protect care homes from Covid\n",
            "Date: 2023-08-25\n",
            "Category: ['news', 'health']\n",
            "URL: http://www.bbc.co.uk/news/health-66582873\n",
            "\n",
            "===============8===============\n",
            "Score: 34.726395\n",
            "Title: Covid inquiry: The questions we really want answers to\n",
            "Date: 2023-06-13\n",
            "Category: ['news', 'health']\n",
            "URL: http://www.bbc.co.uk/news/health-65843811\n",
            "\n",
            "===============9===============\n",
            "Score: 34.726395\n",
            "Title: Covid inquiry: The questions we really want answers to\n",
            "Date: 2023-06-13\n",
            "Category: ['news', 'health']\n",
            "URL: http://www.bbc.co.uk/news/health-65843811\n",
            "\n",
            "===============10===============\n",
            "Score: 34.726395\n",
            "Title: Covid inquiry: The questions we really want answers to\n",
            "Date: 2023-06-13\n",
            "Category: ['news', 'health']\n",
            "URL: http://www.bbc.co.uk/news/health-65843811\n",
            "\n",
            "===============11===============\n",
            "Score: 34.6859\n",
            "Title: Do restrictions on travel work against Covid?\n",
            "Date: 2023-01-04\n",
            "Category: ['news']\n",
            "URL: http://www.bbc.co.uk/news/59461861\n",
            "\n",
            "===============12===============\n",
            "Score: 34.6859\n",
            "Title: Do restrictions on travel work against Covid?\n",
            "Date: 2023-01-04\n",
            "Category: ['news']\n",
            "URL: http://www.bbc.co.uk/news/59461861\n",
            "\n",
            "===============13===============\n",
            "Score: 34.27961\n",
            "Title: Covid Inquiry: What have we learnt so far?\n",
            "Date: 2023-07-20\n",
            "Category: ['news', 'health']\n",
            "URL: http://www.bbc.co.uk/news/health-66223172\n",
            "\n",
            "===============14===============\n",
            "Score: 33.768135\n",
            "Title: Former pilot who allegedly threatened to shoot flight captain once sued DOD against Covid-19 mandate\n",
            "Date: 2023-11-03\n",
            "Category: ['u.s. news']\n",
            "URL: https://www.nbcnews.com/news/us-news/former-pilot-allegedly-threatened-shoot-flight-captain-sued-dod-covid-rcna123400\n",
            "\n",
            "===============15===============\n",
            "Score: 33.526863\n",
            "Title: Covid hearings begin in court of public opinion\n",
            "Date: 2023-03-01\n",
            "Category: ['news', 'uk-politics']\n",
            "URL: http://www.bbc.co.uk/news/uk-politics-64811416\n",
            "\n",
            "===============16===============\n",
            "Score: 33.470245\n",
            "Title: Covid in Wales: What do the stats tell us?\n",
            "Date: 2023-11-19\n",
            "Category: ['news', 'uk-wales']\n",
            "URL: http://www.bbc.co.uk/news/uk-wales-52380643\n",
            "\n",
            "===============17===============\n",
            "Score: 33.470245\n",
            "Title: Covid in Wales: What do the stats tell us?\n",
            "Date: 2023-11-19\n",
            "Category: ['news', 'uk-wales']\n",
            "URL: http://www.bbc.co.uk/news/uk-wales-52380643\n",
            "\n",
            "===============18===============\n",
            "Score: 33.470245\n",
            "Title: Covid in Wales: What do the stats tell us?\n",
            "Date: 2023-11-19\n",
            "Category: ['news', 'uk-wales']\n",
            "URL: http://www.bbc.co.uk/news/uk-wales-52380643\n",
            "\n",
            "===============19===============\n",
            "Score: 33.470245\n",
            "Title: Covid in Wales: What do the stats tell us?\n",
            "Date: 2023-11-19\n",
            "Category: ['news', 'uk-wales']\n",
            "URL: http://www.bbc.co.uk/news/uk-wales-52380643\n",
            "\n",
            "===============20===============\n",
            "Score: 33.470245\n",
            "Title: Covid in Wales: What do the stats tell us?\n",
            "Date: 2023-11-19\n",
            "Category: ['news', 'uk-wales']\n",
            "URL: http://www.bbc.co.uk/news/uk-wales-52380643\n",
            "\n",
            "===============21===============\n",
            "Score: 33.470245\n",
            "Title: Covid in Wales: What do the stats tell us?\n",
            "Date: 2023-11-19\n",
            "Category: ['news', 'uk-wales']\n",
            "URL: http://www.bbc.co.uk/news/uk-wales-52380643\n",
            "\n",
            "===============22===============\n",
            "Score: 33.470245\n",
            "Title: Covid in Wales: What do the stats tell us?\n",
            "Date: 2023-11-19\n",
            "Category: ['news', 'uk-wales']\n",
            "URL: http://www.bbc.co.uk/news/uk-wales-52380643\n",
            "\n",
            "===============23===============\n",
            "Score: 33.470245\n",
            "Title: Covid in Wales: What do the stats tell us?\n",
            "Date: 2023-11-19\n",
            "Category: ['news', 'uk-wales']\n",
            "URL: http://www.bbc.co.uk/news/uk-wales-52380643\n",
            "\n",
            "===============24===============\n",
            "Score: 33.470245\n",
            "Title: Covid in Wales: What do the stats tell us?\n",
            "Date: 2023-11-19\n",
            "Category: ['news', 'uk-wales']\n",
            "URL: http://www.bbc.co.uk/news/uk-wales-52380643\n",
            "\n",
            "===============25===============\n",
            "Score: 33.470245\n",
            "Title: Covid in Wales: What do the stats tell us?\n",
            "Date: 2023-11-19\n",
            "Category: ['news', 'uk-wales']\n",
            "URL: http://www.bbc.co.uk/news/uk-wales-52380643\n",
            "\n"
          ]
        }
      ]
    },
    {
      "cell_type": "markdown",
      "source": [
        "## Hybrid BM25 + ELSER Model with Score Summation (For testing)\n",
        ">It is a straightforward approach in combining the lexical search and semantic search by adding the relevance scores from all the matching fields to rank the documents."
      ],
      "metadata": {
        "id": "XSax_kfXfHUD"
      }
    },
    {
      "cell_type": "code",
      "source": [
        "search_query = {\n",
        "    \"query\": {\n",
        "        \"bool\": {\n",
        "            \"must\": [\n",
        "                {\n",
        "                    \"exists\": {\n",
        "                        \"field\": \"title_embedding\"\n",
        "                        }\n",
        "                },\n",
        "                {\n",
        "                    \"distance_feature\": {\n",
        "                        \"field\": \"date\",\n",
        "                        \"pivot\": \"7d\",\n",
        "                        \"origin\": \"now\",\n",
        "                        \"boost\": 1000\n",
        "                    }\n",
        "                }\n",
        "            ],\n",
        "            \"should\": [\n",
        "                {\n",
        "                    \"multi_match\": {\n",
        "                        \"query\": user_query,\n",
        "                        \"fields\": [\"title\", \"keywords^2\", \"category\", \"url\"],\n",
        "                        \"type\": \"best_fields\",\n",
        "                        \"fuzziness\": \"AUTO\",\n",
        "                    }\n",
        "                },\n",
        "                {\n",
        "                    \"match_phrase\": {\n",
        "                        \"title\": user_query\n",
        "                    }\n",
        "                },\n",
        "                {\n",
        "                    \"text_expansion\": {\n",
        "                        \"title_embedding\": {\n",
        "                            \"model_id\": es_model_id,\n",
        "                            \"model_text\": user_query,\n",
        "                            }\n",
        "                    }\n",
        "                }\n",
        "            ]\n",
        "        }\n",
        "    },\n",
        "    \"size\": 20\n",
        "}\n",
        "\n",
        "response = es.search(index=\"cs5481-news-search\", body=search_query)\n",
        "\n",
        "response_listing(response)"
      ],
      "metadata": {
        "colab": {
          "base_uri": "https://localhost:8080/"
        },
        "id": "h-hqGoOK6bEg",
        "outputId": "16b62702-c191-40e1-c4d6-f7e14dddf325"
      },
      "execution_count": 15,
      "outputs": [
        {
          "output_type": "stream",
          "name": "stdout",
          "text": [
            "Total Document Retrieved: 10000\n",
            "\n",
            "\n",
            "===============1===============\n",
            "Score: 62.471138\n",
            "Title: Gov. Ron DeSantis proposes permanent ban on Covid mandates in Florida\n",
            "Date: 2023-01-18\n",
            "Category: ['politics news']\n",
            "URL: https://www.nbcnews.com/politics/politics-news/florida-gov-desantis-proposes-permanent-ban-covid-mandates-rcna66268\n",
            "\n",
            "===============2===============\n",
            "Score: 56.15783\n",
            "Title: The era of big Covid mandates is ending\n",
            "Date: 2022-02-09\n",
            "Category: ['meet the press']\n",
            "URL: https://www.nbcnews.com/politics/meet-the-press/era-big-covid-mandates-ending-n1288840\n",
            "\n",
            "===============3===============\n",
            "Score: 49.964134\n",
            "Title: Court blocks Covid vaccine mandate for U.S. government workers\n",
            "Date: 2023-03-24\n",
            "Category: ['coronavirus']\n",
            "URL: https://www.nbcnews.com/politics/joe-biden/court-blocks-covid-vaccine-mandate-us-government-workers-rcna76487\n",
            "\n",
            "===============4===============\n",
            "Score: 47.92674\n",
            "Title: 'Chaotic situation': Puerto Ricans indignant at tourists breaking Covid mandates\n",
            "Date: 2021-03-20\n",
            "Category: ['coronavirus']\n",
            "URL: https://www.nbcnews.com/news/latino/chaotic-situation-puerto-ricans-indignant-tourists-breaking-covid-mandates-n1261588\n",
            "\n",
            "===============5===============\n",
            "Score: 47.59432\n",
            "Title: McConnell says he'd leave Covid mandates up to employers, school boards\n",
            "Date: 2021-08-24\n",
            "Category: ['congress']\n",
            "URL: https://www.nbcnews.com/politics/congress/mcconnell-says-he-d-leave-covid-mandates-employers-school-boards-n1277525\n",
            "\n",
            "===============6===============\n",
            "Score: 47.41313\n",
            "Title: Pentagon drops Covid-19 vaccination mandate for troops\n",
            "Date: 2023-01-11\n",
            "Category: ['coronavirus']\n",
            "URL: https://www.nbcnews.com/news/us-news/pentagon-drops-covid-19-vaccination-mandate-troops-rcna65233\n",
            "\n",
            "===============7===============\n",
            "Score: 46.030403\n",
            "Title: 'Stiffen our spines': Democrats see political support for Covid mandates in California\n",
            "Date: 2021-09-18\n",
            "Category: ['elections']\n",
            "URL: https://www.nbcnews.com/politics/elections/stiffen-our-spines-democrats-see-political-support-covid-mandates-california-n1279466\n",
            "\n",
            "===============8===============\n",
            "Score: 44.58325\n",
            "Title: San Antonio Spurs coach Gregg Popovich slams Texas governor for lifting Covid mandates\n",
            "Date: 2021-03-04\n",
            "Category: ['coronavirus']\n",
            "URL: https://www.nbcnews.com/news/us-news/san-antonio-spurs-coach-gregg-popovich-slams-texas-governor-lifting-n1259511\n",
            "\n",
            "===============9===============\n",
            "Score: 44.39207\n",
            "Title: Hong Kong to lift one of the world’s longest Covid mask mandates\n",
            "Date: 2023-02-28\n",
            "Category: ['coronavirus']\n",
            "URL: https://www.nbcnews.com/news/world/hong-kong-to-lift-covid-mask-mandate-rcna72601\n",
            "\n",
            "===============10===============\n",
            "Score: 44.358944\n",
            "Title: Washington lawmaker apologizes for wearing yellow Star of David to protest Covid mandates\n",
            "Date: 2021-07-02\n",
            "Category: ['politics news']\n",
            "URL: https://www.nbcnews.com/politics/politics-news/washington-lawmaker-apologizes-wearing-star-david-protest-covid-mandates-n1272962\n",
            "\n",
            "===============11===============\n",
            "Score: 43.358727\n",
            "Title: Former pilot who allegedly threatened to shoot flight captain once sued DOD against Covid-19 mandate\n",
            "Date: 2023-11-03\n",
            "Category: ['u.s. news']\n",
            "URL: https://www.nbcnews.com/news/us-news/former-pilot-allegedly-threatened-shoot-flight-captain-sued-dod-covid-rcna123400\n",
            "\n",
            "===============12===============\n",
            "Score: 40.23037\n",
            "Title: Could getting Covid raise cholesterol?\n",
            "Date: 2023-01-25\n",
            "Category: ['coronavirus']\n",
            "URL: https://www.nbcnews.com/health/health-news/getting-covid-raise-cholesterol-rcna67001\n",
            "\n",
            "===============13===============\n",
            "Score: 40.078484\n",
            "Title: Should we be worried about Covid this winter?\n",
            "Date: 2023-08-17\n",
            "Category: ['news', 'uk-scotland']\n",
            "URL: http://www.bbc.co.uk/news/uk-scotland-66502573\n",
            "\n",
            "===============14===============\n",
            "Score: 40.078484\n",
            "Title: Should we be worried about Covid this winter?\n",
            "Date: 2023-08-17\n",
            "Category: ['news', 'uk-scotland']\n",
            "URL: http://www.bbc.co.uk/news/uk-scotland-66502573\n",
            "\n",
            "===============15===============\n",
            "Score: 39.620956\n",
            "Title: Do restrictions on travel work against Covid?\n",
            "Date: 2023-01-04\n",
            "Category: ['news']\n",
            "URL: http://www.bbc.co.uk/news/59461861\n",
            "\n",
            "===============16===============\n",
            "Score: 39.620956\n",
            "Title: Do restrictions on travel work against Covid?\n",
            "Date: 2023-01-04\n",
            "Category: ['news']\n",
            "URL: http://www.bbc.co.uk/news/59461861\n",
            "\n",
            "===============17===============\n",
            "Score: 39.288273\n",
            "Title: Covid inquiry: The questions we really want answers to\n",
            "Date: 2023-06-13\n",
            "Category: ['news', 'health']\n",
            "URL: http://www.bbc.co.uk/news/health-65843811\n",
            "\n",
            "===============18===============\n",
            "Score: 39.288273\n",
            "Title: Covid inquiry: The questions we really want answers to\n",
            "Date: 2023-06-13\n",
            "Category: ['news', 'health']\n",
            "URL: http://www.bbc.co.uk/news/health-65843811\n",
            "\n",
            "===============19===============\n",
            "Score: 39.288273\n",
            "Title: Covid inquiry: The questions we really want answers to\n",
            "Date: 2023-06-13\n",
            "Category: ['news', 'health']\n",
            "URL: http://www.bbc.co.uk/news/health-65843811\n",
            "\n",
            "===============20===============\n",
            "Score: 39.020744\n",
            "Title: Covid Inquiry: What have we learnt so far?\n",
            "Date: 2023-07-20\n",
            "Category: ['news', 'health']\n",
            "URL: http://www.bbc.co.uk/news/health-66223172\n",
            "\n"
          ]
        }
      ]
    },
    {
      "cell_type": "markdown",
      "source": [
        "## Hybrid BM25 + ELSER Model with RRF Ranking\n",
        ">The query below does not work in Python API since it currently does not contain the \"sub_searches\" method, but the query has been tested in Elasticsearch console and depolyed in our web application."
      ],
      "metadata": {
        "id": "oImo4k6bfRDT"
      }
    },
    {
      "cell_type": "code",
      "source": [
        "search_query = {\n",
        "    \"track_total_hits\": True,\n",
        "    \"sub_searches\": [\n",
        "        {\n",
        "            \"query\": {\n",
        "                \"bool\": {\n",
        "                    \"must\": [\n",
        "                        {\n",
        "                            \"exists\": {\n",
        "                                \"field\": \"title_embedding\"\n",
        "                                }\n",
        "                        },\n",
        "                        {\n",
        "                            \"distance_feature\": {\n",
        "                                \"field\": \"date\",\n",
        "                                \"pivot\": \"7d\",\n",
        "                                \"origin\": \"now\",\n",
        "                                \"boost\": 1000\n",
        "                            }\n",
        "                        }\n",
        "                    ],\n",
        "                    \"should\": [\n",
        "                        {\n",
        "                        \"multi_match\": {\n",
        "                            \"query\": user_query,\n",
        "                            \"fields\": [\"title\", \"keywords^2\", \"category\", \"url\"],\n",
        "                            \"type\": \"best_fields\",\n",
        "                            \"fuzziness\": \"AUTO\",\n",
        "                            }\n",
        "                        }\n",
        "                    ]\n",
        "                }\n",
        "            }\n",
        "        },\n",
        "        {\n",
        "            \"query\": {\n",
        "                \"bool\": {\n",
        "                    \"must\": [\n",
        "                        {\n",
        "                            \"exists\": {\n",
        "                                \"field\": \"title_embedding\"\n",
        "                                }\n",
        "                        },\n",
        "                        {\n",
        "                            \"distance_feature\": {\n",
        "                                \"field\": \"date\",\n",
        "                                \"pivot\": \"7d\",\n",
        "                                \"origin\": \"now\",\n",
        "                                \"boost\": 1000\n",
        "                            }\n",
        "                        }\n",
        "                    ],\n",
        "                    \"should\": [\n",
        "                        {\n",
        "                        \"text_expansion\": {\n",
        "                            \"title_embedding\": {\n",
        "                                \"model_id\": es_model_id,\n",
        "                                \"model_text\": user_query,\n",
        "                                }\n",
        "                            }\n",
        "                        }\n",
        "                    ]\n",
        "                }\n",
        "            }\n",
        "        },\n",
        "        {\n",
        "            \"query\": {\n",
        "                \"bool\": {\n",
        "                    \"must\": [\n",
        "                        {\n",
        "                            \"exists\": {\n",
        "                                \"field\": \"title_embedding\"\n",
        "                                }\n",
        "                        },\n",
        "                        {\n",
        "                            \"distance_feature\": {\n",
        "                                \"field\": \"date\",\n",
        "                                \"pivot\": \"7d\",\n",
        "                                \"origin\": \"now\",\n",
        "                                \"boost\": 1000\n",
        "                            }\n",
        "                        }\n",
        "                    ],\n",
        "                    \"should\": [\n",
        "                        {\n",
        "                            \"match_phrase\": {\n",
        "                                \"title\": user_query\n",
        "                            }\n",
        "                        }\n",
        "                    ]\n",
        "                }\n",
        "            }\n",
        "        }\n",
        "    ],\n",
        "    \"rank\": {\n",
        "        \"rrf\": {\n",
        "            \"window_size\": 50\n",
        "        }\n",
        "    }\n",
        "}"
      ],
      "metadata": {
        "id": "Cen1QTint28j"
      },
      "execution_count": null,
      "outputs": []
    },
    {
      "cell_type": "code",
      "source": [],
      "metadata": {
        "id": "TPs0-MT4ZxOS"
      },
      "execution_count": null,
      "outputs": []
    }
  ]
}